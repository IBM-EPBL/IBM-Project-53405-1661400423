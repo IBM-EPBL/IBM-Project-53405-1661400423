{
 "cells": [
  {
   "cell_type": "code",
   "execution_count": 1,
   "metadata": {},
   "outputs": [],
   "source": [
    "from ibm_watson_machine_learning import APIClient\n",
    "\n",
    "web_cred={\n",
    "    \"apikey\": \"69GqrX_f237egBuEl-K6GAXLbRZWA5DVuqkBPcJtj8RR\", #Confidential\n",
    "\t\"url\": \"https://eu-gb.ml.cloud.ibm.com\"\n",
    "}\n",
    "\n",
    "client=APIClient(web_cred)"
   ]
  },
  {
   "cell_type": "code",
   "execution_count": 2,
   "metadata": {},
   "outputs": [
    {
     "data": {
      "text/plain": [
       "'SUCCESS'"
      ]
     },
     "execution_count": 2,
     "metadata": {},
     "output_type": "execute_result"
    }
   ],
   "source": [
    "spaceID=\"8df924b0-51cb-4918-867d-e85c9bfacba6\" #Confidential\n",
    "x=client.set.default_space(spaceID)\n",
    "x"
   ]
  },
  {
   "cell_type": "code",
   "execution_count": 3,
   "metadata": {},
   "outputs": [
    {
     "data": {
      "text/plain": [
       "'acd9c798-6974-5d2f-a657-ce06e986df4d'"
      ]
     },
     "execution_count": 3,
     "metadata": {},
     "output_type": "execute_result"
    }
   ],
   "source": [
    "sw_id=client.software_specifications.get_uid_by_name(\"tensorflow_rt22.1-py3.9\")\n",
    "sw_id"
   ]
  },
  {
   "cell_type": "code",
   "execution_count": null,
   "metadata": {},
   "outputs": [],
   "source": [
    "!tar -zcvf sign_lang.tgz keras_model.h5"
   ]
  },
  {
   "cell_type": "code",
   "execution_count": 5,
   "metadata": {},
   "outputs": [],
   "source": [
    "model_details=client.repository.store_model(model=\"sign_lang.tgz\",meta_props={\n",
    "    client.repository.ModelMetaNames.NAME: \"CNN_sign_lang\",\n",
    "    client.repository.ModelMetaNames.TYPE: \"tensorflow_2.7\",\n",
    "    client.repository.ModelMetaNames.SOFTWARE_SPEC_UID:sw_id\n",
    "})"
   ]
  },
  {
   "cell_type": "code",
   "execution_count": 6,
   "metadata": {},
   "outputs": [
    {
     "data": {
      "text/plain": [
       "{'entity': {'hybrid_pipeline_software_specs': [],\n",
       "  'software_spec': {'id': 'acd9c798-6974-5d2f-a657-ce06e986df4d',\n",
       "   'name': 'tensorflow_rt22.1-py3.9'},\n",
       "  'type': 'tensorflow_2.7'},\n",
       " 'metadata': {'created_at': '2022-11-19T04:33:28.585Z',\n",
       "  'id': '4a43ff4a-7409-4a19-842d-81b0f80a1cd1',\n",
       "  'modified_at': '2022-11-19T04:33:32.625Z',\n",
       "  'name': 'CNN_sign_lang',\n",
       "  'owner': 'IBMid-666002OVKL',\n",
       "  'resource_key': 'fe37f619-1710-4053-bffb-4122c91ca35d',\n",
       "  'space_id': '8df924b0-51cb-4918-867d-e85c9bfacba6'},\n",
       " 'system': {'warnings': []}}"
      ]
     },
     "execution_count": 6,
     "metadata": {},
     "output_type": "execute_result"
    }
   ],
   "source": [
    "model_details"
   ]
  },
  {
   "cell_type": "code",
   "execution_count": 7,
   "metadata": {},
   "outputs": [
    {
     "data": {
      "text/plain": [
       "'4a43ff4a-7409-4a19-842d-81b0f80a1cd1'"
      ]
     },
     "execution_count": 7,
     "metadata": {},
     "output_type": "execute_result"
    }
   ],
   "source": [
    "model_id=client.repository.get_model_id(model_details)\n",
    "model_id"
   ]
  },
  {
   "cell_type": "code",
   "execution_count": 8,
   "metadata": {},
   "outputs": [
    {
     "name": "stdout",
     "output_type": "stream",
     "text": [
      "------------------------------------  -------------  ------------------------  --------------  -----\n",
      "GUID                                  NAME           CREATED                   FRAMEWORK       TYPE\n",
      "4a43ff4a-7409-4a19-842d-81b0f80a1cd1  CNN_sign_lang  2022-11-19T04:33:28.002Z  tensorflow_2.7  model\n",
      "------------------------------------  -------------  ------------------------  --------------  -----\n"
     ]
    }
   ],
   "source": [
    "client.repository.list()"
   ]
  }
 ],
 "metadata": {
  "kernelspec": {
   "display_name": "Python 3.9.13 ('base')",
   "language": "python",
   "name": "python3"
  },
  "language_info": {
   "codemirror_mode": {
    "name": "ipython",
    "version": 3
   },
   "file_extension": ".py",
   "mimetype": "text/x-python",
   "name": "python",
   "nbconvert_exporter": "python",
   "pygments_lexer": "ipython3",
   "version": "3.9.13"
  },
  "orig_nbformat": 4,
  "vscode": {
   "interpreter": {
    "hash": "892ec26df7909c16895f2faa665477dacb6ec5f5af16b33b2ebfd6a8b8d32d0d"
   }
  }
 },
 "nbformat": 4,
 "nbformat_minor": 2
}
