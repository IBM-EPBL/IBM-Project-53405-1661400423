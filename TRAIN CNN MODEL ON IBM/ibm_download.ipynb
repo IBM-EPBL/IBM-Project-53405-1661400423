{
 "cells": [
  {
   "cell_type": "code",
   "execution_count": 1,
   "metadata": {},
   "outputs": [],
   "source": [
    "from ibm_watson_machine_learning import APIClient\n",
    "import tarfile\n",
    "\n",
    "web_cred={\n",
    "    \"apikey\": \"69GqrX_f237egBuEl-K6GAXLbRZWA5DVuqkBPcJtj8RR\", #Confidential\n",
    "\t\"url\": \"https://eu-gb.ml.cloud.ibm.com\"\n",
    "}\n",
    "\n",
    "client=APIClient(web_cred)"
   ]
  },
  {
   "cell_type": "code",
   "execution_count": 3,
   "metadata": {},
   "outputs": [
    {
     "data": {
      "text/plain": [
       "'SUCCESS'"
      ]
     },
     "execution_count": 3,
     "metadata": {},
     "output_type": "execute_result"
    }
   ],
   "source": [
    "spaceID=\"8df924b0-51cb-4918-867d-e85c9bfacba6\" #Confidential\n",
    "client.set.default_space(spaceID)"
   ]
  },
  {
   "cell_type": "code",
   "execution_count": 8,
   "metadata": {},
   "outputs": [],
   "source": [
    "model_id=\"a370f23c-042c-4ae9-bfef-b345ff347c1d\" #Confidential"
   ]
  },
  {
   "cell_type": "code",
   "execution_count": null,
   "metadata": {},
   "outputs": [],
   "source": [
    "!tar xvf Model/sign.tgz --directory \"/Users/Deva/Documents/PROGRAMMING/Project/Model/\"\n"
   ]
  }
 ],
 "metadata": {
  "kernelspec": {
   "display_name": "Python 3.9.13 ('base')",
   "language": "python",
   "name": "python3"
  },
  "language_info": {
   "codemirror_mode": {
    "name": "ipython",
    "version": 3
   },
   "file_extension": ".py",
   "mimetype": "text/x-python",
   "name": "python",
   "nbconvert_exporter": "python",
   "pygments_lexer": "ipython3",
   "version": "3.9.13"
  },
  "orig_nbformat": 4,
  "vscode": {
   "interpreter": {
    "hash": "892ec26df7909c16895f2faa665477dacb6ec5f5af16b33b2ebfd6a8b8d32d0d"
   }
  }
 },
 "nbformat": 4,
 "nbformat_minor": 2
}
