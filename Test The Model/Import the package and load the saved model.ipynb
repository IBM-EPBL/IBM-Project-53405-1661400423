{
  "cells": [
    {
      "cell_type": "markdown",
      "metadata": {
        "id": "nmlEhLTPqRrC"
      },
      "source": [
        "Loading the Dataset & Image Data Generation"
      ]
    },
    {
      "cell_type": "code",
      "execution_count": 1,
      "metadata": {
        "id": "ZFE2INQMqMah"
      },
      "outputs": [],
      "source": [
        "from tensorflow.keras.preprocessing.image import ImageDataGenerator"
      ]
    },
    {
      "cell_type": "code",
      "execution_count": 2,
      "metadata": {
        "id": "KJrYAeNhqdC0"
      },
      "outputs": [],
      "source": [
        "# Training Datagen\n",
        "train_datagen = ImageDataGenerator(rescale=1/255,zoom_range=0.2,horizontal_flip=True,vertical_flip=False)\n",
        "# Testing Datagen\n",
        "test_datagen = ImageDataGenerator(rescale=1/255)"
      ]
    },
    {
      "cell_type": "code",
      "execution_count": 3,
      "metadata": {
        "colab": {
          "base_uri": "https://localhost:8080/"
        },
        "id": "TPWCXGqCqdSz",
        "outputId": "f3384336-25a8-430c-ee02-3cec598188a5"
      },
      "outputs": [
        {
          "output_type": "stream",
          "name": "stdout",
          "text": [
            "Found 900 images belonging to 9 classes.\n",
            "Found 468 images belonging to 9 classes.\n"
          ]
        }
      ],
      "source": [
        "# Training Dataset\n",
        "x_train=train_datagen.flow_from_directory(r'/content/drive/MyDrive/Dataset/training_set',target_size=(64,64), class_mode='categorical',batch_size=900)\n",
        "# Testing Dataset\n",
        "x_test=test_datagen.flow_from_directory(r'/content/drive/MyDrive/Dataset/test_set',target_size=(64,64), class_mode='categorical',batch_size=900)"
      ]
    },
    {
      "cell_type": "code",
      "execution_count": 4,
      "metadata": {
        "colab": {
          "base_uri": "https://localhost:8080/"
        },
        "id": "FgfYpRqFrney",
        "outputId": "5a3fb5aa-7834-49fe-c78b-3aef753514f0"
      },
      "outputs": [
        {
          "output_type": "stream",
          "name": "stdout",
          "text": [
            "Len x-train :  1\n",
            "Len x-test :  1\n"
          ]
        }
      ],
      "source": [
        "print(\"Len x-train : \", len(x_train))\n",
        "print(\"Len x-test : \", len(x_test))"
      ]
    },
    {
      "cell_type": "code",
      "execution_count": 5,
      "metadata": {
        "colab": {
          "base_uri": "https://localhost:8080/"
        },
        "id": "NCqoeQo-r9YO",
        "outputId": "7c03cda0-b411-4839-ab95-a0b8f78075b5"
      },
      "outputs": [
        {
          "output_type": "execute_result",
          "data": {
            "text/plain": [
              "{'A': 0, 'B': 1, 'C': 2, 'D': 3, 'E': 4, 'F': 5, 'G': 6, 'H': 7, 'I': 8}"
            ]
          },
          "metadata": {},
          "execution_count": 5
        }
      ],
      "source": [
        "# The Class Indices in Training Dataset\n",
        "x_train.class_indices"
      ]
    },
    {
      "cell_type": "markdown",
      "metadata": {
        "id": "hgdwQ6WhsLm7"
      },
      "source": [
        "Model Creation"
      ]
    },
    {
      "cell_type": "code",
      "execution_count": 6,
      "metadata": {
        "id": "DimuPwdhr9dt"
      },
      "outputs": [],
      "source": [
        "# Importing Libraries\n",
        "from tensorflow.keras.models import Sequential\n",
        "from tensorflow.keras.layers import Convolution2D,MaxPooling2D,Flatten,Dense"
      ]
    },
    {
      "cell_type": "code",
      "execution_count": 7,
      "metadata": {
        "id": "Gr3RS7zosSdJ"
      },
      "outputs": [],
      "source": [
        "# Creating Model\n",
        "model=Sequential()"
      ]
    },
    {
      "cell_type": "code",
      "execution_count": 8,
      "metadata": {
        "id": "cWxOBRaXsSgO"
      },
      "outputs": [],
      "source": [
        "# Adding Layers\n",
        "model.add(Convolution2D(32,(3,3),activation='relu',input_shape=(64,64,3)))\n"
      ]
    },
    {
      "cell_type": "code",
      "execution_count": 9,
      "metadata": {
        "id": "VwLWODl5sSiz"
      },
      "outputs": [],
      "source": [
        "model.add(MaxPooling2D(pool_size=(2,2)))"
      ]
    },
    {
      "cell_type": "code",
      "execution_count": 11,
      "metadata": {
        "id": "FON9lHaFsSrc"
      },
      "outputs": [],
      "source": [
        "model.add(Flatten())"
      ]
    },
    {
      "cell_type": "code",
      "execution_count": 10,
      "metadata": {
        "id": "aWbuJXYJsg7b"
      },
      "outputs": [],
      "source": [
        "# Adding Dense Layers\n",
        "model.add(Dense(300,activation='relu'))\n",
        "model.add(Dense(150,activation='relu'))\n",
        "model.add(Dense(9,activation='softmax'))"
      ]
    },
    {
      "cell_type": "code",
      "execution_count": 12,
      "metadata": {
        "id": "aUrggVbeskV2"
      },
      "outputs": [],
      "source": [
        "# Compiling the Model\n",
        "model.compile(loss='categorical_crossentropy',optimizer='adam',metrics=['accuracy'])"
      ]
    },
    {
      "cell_type": "code",
      "execution_count": null,
      "metadata": {
        "colab": {
          "background_save": true,
          "base_uri": "https://localhost:8080/"
        },
        "id": "7aVdTw_ysoSN",
        "outputId": "de7d40a9-115d-4e5c-c84a-4b1f54f7f37f"
      },
      "outputs": [
        {
          "name": "stderr",
          "output_type": "stream",
          "text": [
            "/usr/local/lib/python3.7/dist-packages/ipykernel_launcher.py:2: UserWarning: `Model.fit_generator` is deprecated and will be removed in a future version. Please use `Model.fit`, which supports generators.\n",
            "  \n"
          ]
        },
        {
          "name": "stdout",
          "output_type": "stream",
          "text": [
            "Epoch 1/10\n",
            "1/1 [==============================] - 121s 121s/step - loss: 2.2008 - accuracy: 0.0689 - val_loss: 1.7906 - val_accuracy: 0.2372\n",
            "Epoch 2/10\n",
            "1/1 [==============================] - 6s 6s/step - loss: 1.5484 - accuracy: 0.5033 - val_loss: 1.5938 - val_accuracy: 0.5192\n",
            "Epoch 3/10\n",
            "1/1 [==============================] - 6s 6s/step - loss: 1.1019 - accuracy: 0.6500 - val_loss: 1.3512 - val_accuracy: 0.5406\n",
            "Epoch 4/10\n",
            "1/1 [==============================] - 8s 8s/step - loss: 0.7689 - accuracy: 0.8044 - val_loss: 1.5188 - val_accuracy: 0.3483\n",
            "Epoch 5/10\n",
            "1/1 [==============================] - 6s 6s/step - loss: 0.6899 - accuracy: 0.6656 - val_loss: 1.1439 - val_accuracy: 0.6667\n",
            "Epoch 6/10\n",
            "1/1 [==============================] - 6s 6s/step - loss: 0.2767 - accuracy: 0.9278 - val_loss: 1.2031 - val_accuracy: 0.5598\n",
            "Epoch 7/10\n",
            "1/1 [==============================] - 6s 6s/step - loss: 0.3206 - accuracy: 0.8922 - val_loss: 0.9682 - val_accuracy: 0.6603\n",
            "Epoch 8/10\n",
            "1/1 [==============================] - 6s 6s/step - loss: 0.1707 - accuracy: 0.9378 - val_loss: 0.8947 - val_accuracy: 0.6239\n",
            "Epoch 9/10\n",
            "1/1 [==============================] - 6s 6s/step - loss: 0.1080 - accuracy: 0.9711 - val_loss: 0.8970 - val_accuracy: 0.6859\n",
            "Epoch 10/10\n",
            "1/1 [==============================] - 6s 6s/step - loss: 0.1113 - accuracy: 0.9756 - val_loss: 0.8571 - val_accuracy: 0.7009\n"
          ]
        },
        {
          "data": {
            "text/plain": [
              "<keras.callbacks.History at 0x7fdcdc225b90>"
            ]
          },
          "execution_count": 18,
          "metadata": {},
          "output_type": "execute_result"
        }
      ],
      "source": [
        "# Fitting the Model Generator\n",
        "model.fit_generator(x_train,steps_per_epoch=len(x_train),epochs=10,validation_data=x_test,validation_steps=len(x_test))"
      ]
    },
    {
      "cell_type": "markdown",
      "metadata": {
        "id": "eAXrpJDjsr7m"
      },
      "source": [
        "Saving the Model"
      ]
    },
    {
      "cell_type": "code",
      "execution_count": 13,
      "metadata": {
        "id": "G900dVhDsx9n"
      },
      "outputs": [],
      "source": [
        "model.save('asl_model_84_54.h5')"
      ]
    },
    {
      "cell_type": "markdown",
      "metadata": {
        "id": "BK82wlmDsyNM"
      },
      "source": [
        "Testing the model"
      ]
    },
    {
      "cell_type": "code",
      "execution_count": 14,
      "metadata": {
        "id": "P-m9NqWNs6VM"
      },
      "outputs": [],
      "source": [
        "import numpy as np\n",
        "from tensorflow.keras.models import load_model\n",
        "from tensorflow.keras.preprocessing import image"
      ]
    },
    {
      "cell_type": "code",
      "execution_count": 15,
      "metadata": {
        "id": "2FqUM9GQtMGD"
      },
      "outputs": [],
      "source": [
        "model=load_model('asl_model_84_54.h5')\n",
        "img=image.load_img(r'/content/drive/MyDrive/Dataset/test_set/D/2.png',\n",
        "                   target_size=(64,64))"
      ]
    }
  ],
  "metadata": {
    "colab": {
      "provenance": []
    },
    "kernelspec": {
      "display_name": "Python 3",
      "name": "python3"
    },
    "language_info": {
      "name": "python"
    }
  },
  "nbformat": 4,
  "nbformat_minor": 0
}