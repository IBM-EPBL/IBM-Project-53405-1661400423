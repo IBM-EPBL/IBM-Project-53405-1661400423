{
  "nbformat": 4,
  "nbformat_minor": 0,
  "metadata": {
    "colab": {
      "provenance": []
    },
    "kernelspec": {
      "name": "python3",
      "display_name": "Python 3"
    },
    "language_info": {
      "name": "python"
    }
  },
  "cells": [
    {
      "cell_type": "markdown",
      "source": [
        "MODEL BUILDING\n",
        "\n",
        "Adding The Flatten Layer"
      ],
      "metadata": {
        "id": "LlhCdJ5c41mV"
      }
    },
    {
      "cell_type": "code",
      "execution_count": 1,
      "metadata": {
        "id": "5AtH_Cp9qYFx"
      },
      "outputs": [],
      "source": [
        "# importing numpy as np\n",
        "import numpy as np"
      ]
    },
    {
      "cell_type": "code",
      "source": [
        "# declare flatten np\n",
        "gfg = np.array([[6, 9, 12], [8, 5, 2], [18, 21, 24]])\n",
        "\n",
        "# using array.flatten() method\n",
        "flat_gfg = gfg.flatten(order='A')\n",
        "print(flat_gfg)"
      ],
      "metadata": {
        "colab": {
          "base_uri": "https://localhost:8080/"
        },
        "id": "xoYyzCRiriB2",
        "outputId": "db12b718-0b75-4222-e4c7-5d3b71842856"
      },
      "execution_count": 2,
      "outputs": [
        {
          "output_type": "stream",
          "name": "stdout",
          "text": [
            "[ 6  9 12  8  5  2 18 21 24]\n"
          ]
        }
      ]
    },
    {
      "cell_type": "code",
      "source": [
        "from tensorflow.keras.preprocessing.image import ImageDataGenerator"
      ],
      "metadata": {
        "id": "W2KWUId2rnSF"
      },
      "execution_count": 3,
      "outputs": []
    },
    {
      "cell_type": "code",
      "source": [
        "# Training Datagen\n",
        "train_datagen = ImageDataGenerator(rescale=1/255,zoom_range=0.2,horizontal_flip=True,vertical_flip=False)\n",
        "# Testing Datagen\n",
        "test_datagen = ImageDataGenerator(rescale=1/255)"
      ],
      "metadata": {
        "id": "D2wf3g81rr7p"
      },
      "execution_count": 4,
      "outputs": []
    },
    {
      "cell_type": "code",
      "source": [
        "# Training Dataset\n",
        "x_train=train_datagen.flow_from_directory(r'/content/drive/MyDrive/Dataset/training_set',target_size=(64,64), class_mode='categorical',batch_size=900)\n",
        "# Testing Dataset\n",
        "x_test=test_datagen.flow_from_directory(r'/content/drive/MyDrive/Dataset/test_set',target_size=(64,64), class_mode='categorical',batch_size=900)"
      ],
      "metadata": {
        "colab": {
          "base_uri": "https://localhost:8080/"
        },
        "id": "6kQrTbpi34VC",
        "outputId": "852b70cf-730a-4ccc-baea-0a8d86b6a18d"
      },
      "execution_count": 5,
      "outputs": [
        {
          "output_type": "stream",
          "name": "stdout",
          "text": [
            "Found 900 images belonging to 9 classes.\n",
            "Found 468 images belonging to 9 classes.\n"
          ]
        }
      ]
    },
    {
      "cell_type": "code",
      "source": [
        "print(\"Len x-train : \", len(x_train))\n",
        "print(\"Len x-test : \", len(x_test))"
      ],
      "metadata": {
        "colab": {
          "base_uri": "https://localhost:8080/"
        },
        "id": "ybriPjCW4CWV",
        "outputId": "c25e3e8c-cc19-456d-c0bf-12f935c3d58f"
      },
      "execution_count": 6,
      "outputs": [
        {
          "output_type": "stream",
          "name": "stdout",
          "text": [
            "Len x-train :  1\n",
            "Len x-test :  1\n"
          ]
        }
      ]
    },
    {
      "cell_type": "code",
      "source": [
        "# The Class Indices in Training Dataset\n",
        "x_train.class_indices"
      ],
      "metadata": {
        "colab": {
          "base_uri": "https://localhost:8080/"
        },
        "id": "TR12N5q94GxM",
        "outputId": "d145d4aa-2363-424e-9a7f-66c49ac7fffb"
      },
      "execution_count": 7,
      "outputs": [
        {
          "output_type": "execute_result",
          "data": {
            "text/plain": [
              "{'A': 0, 'B': 1, 'C': 2, 'D': 3, 'E': 4, 'F': 5, 'G': 6, 'H': 7, 'I': 8}"
            ]
          },
          "metadata": {},
          "execution_count": 7
        }
      ]
    },
    {
      "cell_type": "markdown",
      "source": [
        "MODEL CREATION"
      ],
      "metadata": {
        "id": "00lBqMZ_4K9h"
      }
    },
    {
      "cell_type": "code",
      "source": [
        "model = Sequential()\n",
        "for i, feat in enumerate(args.conv_f):\n",
        "    if i==0:\n",
        "        model.add(Conv2D(feat, input_shape=x[0].shape, kernel_size=3, padding = 'same',use_bias=False))\n",
        "    else:\n",
        "        model.add(Conv2D(feat, kernel_size=3, padding = 'same',use_bias=False))\n",
        "        model.add(BatchNormalization())\n",
        "        model.add(LeakyReLU(alpha=args.conv_act))\n",
        "        model.add(Conv2D(feat, kernel_size=3, padding = 'same',use_bias=False))\n",
        "        model.add(BatchNormalization())\n",
        "        model.add(LeakyReLU(alpha=args.conv_act))\n",
        "        model.add(Dropout(args.conv_do[i]))"
      ],
      "metadata": {
        "id": "y31QmczbbfU7"
      },
      "execution_count": null,
      "outputs": []
    },
    {
      "cell_type": "code",
      "source": [
        "model.add(Flatten())\n",
        "\n",
        "#Input code here\n",
        "\n",
        "denseArgs = {'use_bias':False}\n",
        "for i,feat in enumerate(args.dense_f):\n",
        "    model.add(Dense(feat,**denseArgs))\n",
        "    model.add(BatchNormalization())\n",
        "    model.add(LeakyReLU(alpha=args.dense_act))\n",
        "    model.add(Dropout(args.dense_do[i]))\n",
        "model.add(Dense(1))"
      ],
      "metadata": {
        "id": "jRrUn7jPb2lT"
      },
      "execution_count": null,
      "outputs": []
    },
    {
      "cell_type": "code",
      "source": [
        "# Importing Libraries\n",
        "from tensorflow.keras.models import Sequential\n",
        "from tensorflow.keras.layers import Convolution2D,MaxPooling2D,Flatten,Dense"
      ],
      "metadata": {
        "id": "5kP2oS5A4SJs"
      },
      "execution_count": 13,
      "outputs": []
    },
    {
      "cell_type": "code",
      "source": [
        "# Creating Model\n",
        "model=Sequential()"
      ],
      "metadata": {
        "id": "65Emzs9k4WiE"
      },
      "execution_count": 14,
      "outputs": []
    },
    {
      "cell_type": "code",
      "source": [
        "# Adding Layers\n",
        "model.add(Convolution2D(32,(3,3),activation='relu',input_shape=(64,64,3)))"
      ],
      "metadata": {
        "id": "iI3cRqqQ4aB3"
      },
      "execution_count": 15,
      "outputs": []
    },
    {
      "cell_type": "code",
      "source": [
        "model.add(MaxPooling2D(pool_size=(2,2)))"
      ],
      "metadata": {
        "id": "zptPD_PxbrTz"
      },
      "execution_count": 16,
      "outputs": []
    },
    {
      "cell_type": "code",
      "source": [
        "model.add(Flatten())"
      ],
      "metadata": {
        "id": "3tkihEECbuNq"
      },
      "execution_count": 17,
      "outputs": []
    },
    {
      "cell_type": "code",
      "source": [
        "# Adding Dense Layers\n",
        "model.add(Dense(300,activation='relu'))\n",
        "model.add(Dense(150,activation='relu'))\n",
        "model.add(Dense(9,activation='softmax'))"
      ],
      "metadata": {
        "id": "OmAXnMxBbxwz"
      },
      "execution_count": 18,
      "outputs": []
    }
  ]
}